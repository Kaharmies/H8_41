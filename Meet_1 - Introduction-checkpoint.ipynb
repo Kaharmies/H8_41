{
 "cells": [
  {
   "cell_type": "code",
   "execution_count": 16,
   "metadata": {},
   "outputs": [
    {
     "name": "stdout",
     "output_type": "stream",
     "text": [
      "123456\n"
     ]
    }
   ],
   "source": [
    "print(123456)"
   ]
  },
  {
   "cell_type": "code",
   "execution_count": 17,
   "metadata": {},
   "outputs": [
    {
     "name": "stdout",
     "output_type": "stream",
     "text": [
      "<class 'int'>\n"
     ]
    }
   ],
   "source": [
    "print (type(123456))"
   ]
  },
  {
   "cell_type": "code",
   "execution_count": 21,
   "metadata": {},
   "outputs": [
    {
     "name": "stdout",
     "output_type": "stream",
     "text": [
      "<class 'float'>\n",
      "4000000.0\n",
      "<class 'float'>\n"
     ]
    }
   ],
   "source": [
    "print (type(3.5))\n",
    "\n",
    "print (.4e7)\n",
    "print (type (.4e7))"
   ]
  },
  {
   "cell_type": "code",
   "execution_count": 22,
   "metadata": {},
   "outputs": [
    {
     "name": "stdout",
     "output_type": "stream",
     "text": [
      "False\n",
      "True\n"
     ]
    }
   ],
   "source": [
    "print (type (10) == float)\n",
    "print (type (10) == int)"
   ]
  },
  {
   "cell_type": "code",
   "execution_count": 27,
   "metadata": {},
   "outputs": [
    {
     "name": "stdout",
     "output_type": "stream",
     "text": [
      "<class 'complex'>\n",
      "True\n"
     ]
    }
   ],
   "source": [
    "print (type (1 + 10j))\n",
    "print (type (10) == int)"
   ]
  },
  {
   "cell_type": "code",
   "execution_count": 28,
   "metadata": {
    "scrolled": true
   },
   "outputs": [
    {
     "name": "stdout",
     "output_type": "stream",
     "text": [
      "hacktiv8\n",
      "<class 'str'>\n"
     ]
    }
   ],
   "source": [
    "print (\"hacktiv8\")\n",
    "print (type(\"hacktiv8\"))"
   ]
  },
  {
   "cell_type": "code",
   "execution_count": null,
   "metadata": {},
   "outputs": [],
   "source": [
    "round(n)"
   ]
  },
  {
   "cell_type": "code",
   "execution_count": 30,
   "metadata": {},
   "outputs": [
    {
     "name": "stdout",
     "output_type": "stream",
     "text": [
      "150\n"
     ]
    },
    {
     "data": {
      "text/plain": [
       "150"
      ]
     },
     "execution_count": 30,
     "metadata": {},
     "output_type": "execute_result"
    }
   ],
   "source": [
    "n = 150\n",
    "print(n)\n",
    "n"
   ]
  },
  {
   "cell_type": "code",
   "execution_count": 32,
   "metadata": {},
   "outputs": [
    {
     "name": "stdout",
     "output_type": "stream",
     "text": [
      "8.1\n",
      "<class 'float'>\n"
     ]
    }
   ],
   "source": [
    "hacktiv8 = 8.1\n",
    "print(hacktiv8)\n",
    "print(type(hacktiv8))"
   ]
  },
  {
   "cell_type": "code",
   "execution_count": 38,
   "metadata": {},
   "outputs": [
    {
     "name": "stdout",
     "output_type": "stream",
     "text": [
      "11\n",
      "-4\n",
      "10\n",
      "25\n",
      "2.5\n",
      "2\n",
      "1\n"
     ]
    }
   ],
   "source": [
    "a = 5\n",
    "b = 2\n",
    "c = 6\n",
    "print(a + c)\n",
    "print(b - c)\n",
    "print(a*b)\n",
    "print(a**b)\n",
    "print(a/b)\n",
    "print(a//b)\n",
    "print(c%a)"
   ]
  },
  {
   "cell_type": "code",
   "execution_count": 40,
   "metadata": {},
   "outputs": [
    {
     "ename": "SyntaxError",
     "evalue": "cannot assign to operator (<ipython-input-40-b4b3ef8c5f0f>, line 3)",
     "output_type": "error",
     "traceback": [
      "\u001b[1;36m  File \u001b[1;32m\"<ipython-input-40-b4b3ef8c5f0f>\"\u001b[1;36m, line \u001b[1;32m3\u001b[0m\n\u001b[1;33m    angka + angkaa = angkaaa\u001b[0m\n\u001b[1;37m    ^\u001b[0m\n\u001b[1;31mSyntaxError\u001b[0m\u001b[1;31m:\u001b[0m cannot assign to operator\n"
     ]
    }
   ],
   "source": [
    "angka = 10\n",
    "angkaa = 4\n",
    "angka + angkaa = angkaaa\n",
    "print(angkaaa)"
   ]
  },
  {
   "cell_type": "code",
   "execution_count": 41,
   "metadata": {},
   "outputs": [
    {
     "name": "stdout",
     "output_type": "stream",
     "text": [
      "Iqbal kaharmies\n",
      "Iqbal Kaharmies\n",
      "iqbal kaharmies\n",
      "IQBAL KAHARMIES\n",
      "iQBAL kaharmIES\n"
     ]
    }
   ],
   "source": [
    "course = \"Iqbal KAHARMies\"\n",
    "print(course.capitalize())\n",
    "print(course.title())\n",
    "print(course.lower())\n",
    "print(course.upper())\n",
    "print(course.swapcase())"
   ]
  },
  {
   "cell_type": "code",
   "execution_count": null,
   "metadata": {},
   "outputs": [],
   "source": []
  }
 ],
 "metadata": {
  "kernelspec": {
   "display_name": "Python 3",
   "language": "python",
   "name": "python3"
  },
  "language_info": {
   "codemirror_mode": {
    "name": "ipython",
    "version": 3
   },
   "file_extension": ".py",
   "mimetype": "text/x-python",
   "name": "python",
   "nbconvert_exporter": "python",
   "pygments_lexer": "ipython3",
   "version": "3.8.3"
  }
 },
 "nbformat": 4,
 "nbformat_minor": 4
}
