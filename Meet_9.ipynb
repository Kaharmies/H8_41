{
 "cells": [
  {
   "cell_type": "code",
   "execution_count": 1,
   "metadata": {},
   "outputs": [],
   "source": [
    "import math\n",
    "import statistics\n",
    "import numpy as np\n",
    "import scipy\n",
    "import scipy.stats\n",
    "import pandas as pd"
   ]
  },
  {
   "cell_type": "code",
   "execution_count": 2,
   "metadata": {
    "scrolled": true
   },
   "outputs": [
    {
     "name": "stdout",
     "output_type": "stream",
     "text": [
      "numpy version 1.18.5\n",
      "scipy version 1.5.0\n",
      "pandas version 1.1.3\n"
     ]
    }
   ],
   "source": [
    "print(\"numpy version\", np.__version__)\n",
    "print(\"scipy version\", scipy.__version__)\n",
    "print(\"pandas version\", pd.__version__)"
   ]
  },
  {
   "cell_type": "code",
   "execution_count": 3,
   "metadata": {},
   "outputs": [
    {
     "name": "stdout",
     "output_type": "stream",
     "text": [
      "[8.0, 1, 2.5, 4, 28.0] 5\n",
      "[8.0, 1, 2.5, nan, 4, 28.0] 6\n"
     ]
    }
   ],
   "source": [
    "x = [8.0, 1, 2.5, 4, 28.0]\n",
    "x_with_nan = [8.0, 1, 2.5, math.nan, 4, 28.0]\n",
    "print(x, len(x))\n",
    "print(x_with_nan, len(x_with_nan))"
   ]
  },
  {
   "cell_type": "code",
   "execution_count": 4,
   "metadata": {},
   "outputs": [
    {
     "name": "stdout",
     "output_type": "stream",
     "text": [
      "[ 8.   1.   2.5  4.  28. ]\n",
      "[ 8.   1.   2.5  nan  4.  28. ]\n",
      "0     8.0\n",
      "1     1.0\n",
      "2     2.5\n",
      "3     4.0\n",
      "4    28.0\n",
      "dtype: float64\n",
      "0     8.0\n",
      "1     1.0\n",
      "2     2.5\n",
      "3     NaN\n",
      "4     4.0\n",
      "5    28.0\n",
      "dtype: float64\n"
     ]
    }
   ],
   "source": [
    "y, y_with_nan = np.array(x), np.array(x_with_nan)\n",
    "z, z_with_nan = pd.Series(x), pd.Series(x_with_nan)\n",
    "print(y)\n",
    "print(y_with_nan)\n",
    "print(z)\n",
    "print(z_with_nan)"
   ]
  },
  {
   "cell_type": "markdown",
   "metadata": {},
   "source": [
    "## Measure of Tendency"
   ]
  },
  {
   "cell_type": "code",
   "execution_count": 5,
   "metadata": {},
   "outputs": [
    {
     "name": "stdout",
     "output_type": "stream",
     "text": [
      "x: [8.0, 1, 2.5, 4, 28.0]\n",
      "mean native: 8.7\n",
      "mean statistics: 8.7\n"
     ]
    }
   ],
   "source": [
    "print(\"x:\", x)\n",
    "mean_native = sum(x) / len(x)\n",
    "print(\"mean native:\", mean_native)\n",
    "mean_stats = statistics.mean(x)\n",
    "print(\"mean statistics:\", mean_stats)"
   ]
  },
  {
   "cell_type": "code",
   "execution_count": 6,
   "metadata": {},
   "outputs": [
    {
     "name": "stdout",
     "output_type": "stream",
     "text": [
      "x with nan: [8.0, 1, 2.5, nan, 4, 28.0]\n",
      "x with nan native: nan\n",
      "x with nan stats: nan\n",
      "mean with numpy: nan\n"
     ]
    }
   ],
   "source": [
    "print(\"x with nan:\", x_with_nan)\n",
    "mean_with_nan_native = sum(x_with_nan) / len(x_with_nan)\n",
    "print(\"x with nan native:\", mean_with_nan_native)\n",
    "mean_with_nan_stats = statistics.mean(x_with_nan)\n",
    "print(\"x with nan stats:\", mean_with_nan_stats)\n",
    "mean_with_nan_np = np.mean(y_with_nan)\n",
    "print(\"mean with numpy:\", mean_with_nan_np)"
   ]
  },
  {
   "cell_type": "code",
   "execution_count": 7,
   "metadata": {},
   "outputs": [
    {
     "name": "stdout",
     "output_type": "stream",
     "text": [
      "mean ignoring nan numpy: 8.7\n"
     ]
    }
   ],
   "source": [
    "mean_ignoring_nan_np = np.nanmean(x_with_nan)\n",
    "print(\"mean ignoring nan numpy:\", mean_ignoring_nan_np)"
   ]
  },
  {
   "cell_type": "code",
   "execution_count": 8,
   "metadata": {},
   "outputs": [
    {
     "name": "stdout",
     "output_type": "stream",
     "text": [
      "mean ignoring nan pandas 8.7\n"
     ]
    }
   ],
   "source": [
    "mean_ignoring_nan_pd = z.mean()\n",
    "print(\"mean ignoring nan pandas\", mean_ignoring_nan_pd)"
   ]
  },
  {
   "cell_type": "code",
   "execution_count": 9,
   "metadata": {},
   "outputs": [
    {
     "name": "stdout",
     "output_type": "stream",
     "text": [
      "[2, 2, 4, 4, 4, 4, 4, 8, 8, 8] 10\n",
      "mean: 4.8\n",
      "weighted mean: 4.8\n"
     ]
    }
   ],
   "source": [
    "arr = [2, 2, 4, 4, 4, 4, 4, 8, 8, 8]\n",
    "print(arr, len(arr))\n",
    "print(\"mean:\", np.mean(arr))\n",
    "print(\"weighted mean:\", 0.2*2 + 0.5*4 + 0.3*8)"
   ]
  },
  {
   "cell_type": "code",
   "execution_count": 10,
   "metadata": {},
   "outputs": [
    {
     "name": "stdout",
     "output_type": "stream",
     "text": [
      "weighted mean: 3.2352941176470584\n"
     ]
    }
   ],
   "source": [
    "arr_x = [8., 1, 2.5, 4]\n",
    "arr_w = [.1, .2, .3, .25]\n",
    "\n",
    "print(\n",
    "    \"weighted mean:\",\n",
    "    sum(w*x for x, w in zip(arr_x, arr_w)) / sum(arr_w)\n",
    ")"
   ]
  },
  {
   "cell_type": "code",
   "execution_count": 11,
   "metadata": {},
   "outputs": [
    {
     "data": {
      "text/plain": [
       "3.2352941176470584"
      ]
     },
     "execution_count": 11,
     "metadata": {},
     "output_type": "execute_result"
    }
   ],
   "source": [
    "np_x, np_w = np.array(arr_x), np.array(arr_w)\n",
    "np.average(np_x, weights=np_w)"
   ]
  },
  {
   "cell_type": "markdown",
   "metadata": {},
   "source": [
    "## Harmonic Name"
   ]
  },
  {
   "cell_type": "code",
   "execution_count": 17,
   "metadata": {},
   "outputs": [
    {
     "name": "stdout",
     "output_type": "stream",
     "text": [
      "[8.0, 1, 2.5, 4, 28.0, 100, 100]\n",
      "arithmatic mean: 34.785714285714285\n",
      "harmonic mean: 3.8236441669918064\n"
     ]
    }
   ],
   "source": [
    "x += [100]\n",
    "print(x)\n",
    "print(\"arithmatic mean:\", sum(x) / len(x))\n",
    "print(\"harmonic mean:\", len(x) / sum(1/i for i in x))"
   ]
  },
  {
   "cell_type": "code",
   "execution_count": 18,
   "metadata": {},
   "outputs": [
    {
     "data": {
      "text/plain": [
       "3.8236441669918064"
      ]
     },
     "execution_count": 18,
     "metadata": {},
     "output_type": "execute_result"
    }
   ],
   "source": [
    "scipy.stats.hmean(x)"
   ]
  },
  {
   "cell_type": "code",
   "execution_count": 19,
   "metadata": {},
   "outputs": [
    {
     "data": {
      "text/plain": [
       "[8.0, 1, 2.5, 4, 28.0, 100, 100]"
      ]
     },
     "execution_count": 19,
     "metadata": {},
     "output_type": "execute_result"
    }
   ],
   "source": [
    "x"
   ]
  },
  {
   "cell_type": "code",
   "execution_count": 23,
   "metadata": {},
   "outputs": [
    {
     "name": "stdout",
     "output_type": "stream",
     "text": [
      "11.221099960393236\n",
      "11.221099960393238\n"
     ]
    }
   ],
   "source": [
    "gmean = 1\n",
    "\n",
    "for item in x:\n",
    "    gmean *= item\n",
    "\n",
    "gmean = gmean**(1/len(x))\n",
    "print(gmean)\n",
    "print(scipy.stats.gmean(x))\n",
    "\n",
    "# ** sama dengan pangkat"
   ]
  },
  {
   "cell_type": "markdown",
   "metadata": {},
   "source": [
    "## Median"
   ]
  },
  {
   "cell_type": "code",
   "execution_count": 27,
   "metadata": {},
   "outputs": [],
   "source": [
    "x += [1000]"
   ]
  },
  {
   "cell_type": "code",
   "execution_count": 28,
   "metadata": {},
   "outputs": [
    {
     "name": "stdout",
     "output_type": "stream",
     "text": [
      "[8.0, 1, 2.5, 4, 28.0, 100, 100, 1000] 8 [1, 2.5, 4, 8.0, 28.0, 100, 100, 1000]\n",
      "median np: 18.0\n",
      "median native: 18.0\n"
     ]
    }
   ],
   "source": [
    "print(x, len(x), sorted(x))\n",
    "print(\"median np:\", np.median(x))\n",
    "\n",
    "if len(x) % 2:\n",
    "    med = sorted(x)[round(0.5 *(len(x)-1))]\n",
    "else:\n",
    "    ordered_x, index = sorted(x), round(0.5 * len(x))\n",
    "    med = 0.5 * (ordered_x[index-1] + ordered_x[index])\n",
    "    \n",
    "print(\"median native:\", med)"
   ]
  },
  {
   "cell_type": "code",
   "execution_count": 29,
   "metadata": {},
   "outputs": [
    {
     "data": {
      "text/plain": [
       "(18.0, 28.0, 8.0)"
      ]
     },
     "execution_count": 29,
     "metadata": {},
     "output_type": "execute_result"
    }
   ],
   "source": [
    "statistics.median(x), statistics.median_high(x), statistics.median_low(x)"
   ]
  },
  {
   "cell_type": "code",
   "execution_count": 33,
   "metadata": {},
   "outputs": [
    {
     "data": {
      "text/plain": [
       "([1, 2.5, 4, 8.0, nan, 28.0], 6.0, 4, 8.0)"
      ]
     },
     "execution_count": 33,
     "metadata": {},
     "output_type": "execute_result"
    }
   ],
   "source": [
    "sorted(x_with_nan), statistics.median(x_with_nan), statistics.median_low(x_with_nan), statistics.median_high(x_with_nan)"
   ]
  },
  {
   "cell_type": "code",
   "execution_count": 37,
   "metadata": {},
   "outputs": [
    {
     "name": "stdout",
     "output_type": "stream",
     "text": [
      "0     8.0\n",
      "1     1.0\n",
      "2     2.5\n",
      "3     4.0\n",
      "4    28.0\n",
      "dtype: float64\n",
      "4.0\n",
      "1     1.0\n",
      "2     2.5\n",
      "4     4.0\n",
      "0     8.0\n",
      "5    28.0\n",
      "3     NaN\n",
      "dtype: float64\n",
      "8.7\n"
     ]
    }
   ],
   "source": [
    "print(z)\n",
    "print(z.median())\n",
    "print(z_with_nan.sort_values())\n",
    "print(z_with_nan.mean())"
   ]
  },
  {
   "cell_type": "markdown",
   "metadata": {},
   "source": [
    "## Mode"
   ]
  },
  {
   "cell_type": "code",
   "execution_count": 43,
   "metadata": {},
   "outputs": [
    {
     "name": "stdout",
     "output_type": "stream",
     "text": [
      "[8.0, 1, 2.5, 4, 28.0, 100, 100, 1000]\n",
      "[1, 1, 1, 1, 1, 2, 2, 1]\n"
     ]
    }
   ],
   "source": [
    "print(x)\n",
    "print([x.count(i) for i in x])"
   ]
  },
  {
   "cell_type": "code",
   "execution_count": 46,
   "metadata": {},
   "outputs": [
    {
     "name": "stdout",
     "output_type": "stream",
     "text": [
      "[100.] [2]\n"
     ]
    }
   ],
   "source": [
    "mode_ = scipy.stats.mode(x)\n",
    "print(mode_.mode, mode_.count)"
   ]
  },
  {
   "cell_type": "code",
   "execution_count": 47,
   "metadata": {},
   "outputs": [
    {
     "data": {
      "text/plain": [
       "0    100.0\n",
       "dtype: float64"
      ]
     },
     "execution_count": 47,
     "metadata": {},
     "output_type": "execute_result"
    }
   ],
   "source": [
    "series_x = pd.Series(x)\n",
    "series_x.mode()"
   ]
  },
  {
   "cell_type": "code",
   "execution_count": 48,
   "metadata": {},
   "outputs": [
    {
     "name": "stdout",
     "output_type": "stream",
     "text": [
      "0     8.0\n",
      "1     1.0\n",
      "2     2.5\n",
      "3     4.0\n",
      "4    28.0\n",
      "dtype: float64\n",
      "0     1.0\n",
      "1     2.5\n",
      "2     4.0\n",
      "3     8.0\n",
      "4    28.0\n",
      "dtype: float64\n"
     ]
    }
   ],
   "source": [
    "print(z)\n",
    "print(z.mode())"
   ]
  },
  {
   "cell_type": "markdown",
   "metadata": {},
   "source": [
    "## Variance"
   ]
  },
  {
   "cell_type": "code",
   "execution_count": 49,
   "metadata": {},
   "outputs": [
    {
     "data": {
      "text/plain": [
       "[8.0, 1, 2.5, 4, 28.0, 100, 100, 1000]"
      ]
     },
     "execution_count": 49,
     "metadata": {},
     "output_type": "execute_result"
    }
   ],
   "source": [
    "x"
   ]
  },
  {
   "cell_type": "code",
   "execution_count": 57,
   "metadata": {},
   "outputs": [
    {
     "name": "stdout",
     "output_type": "stream",
     "text": [
      "mean: 155.4375\n",
      "variance: 118226.38839285714\n",
      "statistics: 118226.38839285714\n",
      "numpy: 118226.38839285714\n",
      "pandas: 118226.38839285714\n"
     ]
    }
   ],
   "source": [
    "n = len(x)\n",
    "mean_x = sum(x) / len(x)\n",
    "print(\"mean:\", mean_x)\n",
    "variance_x = sum((point - mean_x)**2 for point in x) / (n-1)\n",
    "print(\"variance:\", variance_x) #using basic variance\n",
    "print(\"statistics:\", statistics.variance(x)) #using statistics\n",
    "print(\"numpy:\", np.var(np.array(x), ddof=1)) #using numpy\n",
    "print(\"pandas:\", series_x.var()) #using pandas"
   ]
  },
  {
   "cell_type": "markdown",
   "metadata": {},
   "source": [
    "## Standard Deviation"
   ]
  },
  {
   "cell_type": "code",
   "execution_count": 66,
   "metadata": {},
   "outputs": [
    {
     "name": "stdout",
     "output_type": "stream",
     "text": [
      "std native: 343.8406438931517\n",
      "std np: 343.8406438931517\n",
      "std statistics: 343.8406438931517\n",
      "std pandas: 343.8406438931517\n",
      "std scipy: 343.8406438931517\n"
     ]
    },
    {
     "name": "stderr",
     "output_type": "stream",
     "text": [
      "<ipython-input-66-cfca9c1d3425>:5: DeprecationWarning: scipy.std is deprecated and will be removed in SciPy 2.0.0, use numpy.std instead\n",
      "  print(\"std scipy:\", scipy.std(x, ddof=1)) #using scipy\n"
     ]
    }
   ],
   "source": [
    "print(\"std native:\", variance_x**0.5) #using basic standard deviation\n",
    "print(\"std np:\", np.std(x, ddof=1)) #using numpy\n",
    "print(\"std statistics:\", statistics.stdev(x)) #using statistics\n",
    "print(\"std pandas:\", series_x.std()) #using pandas\n",
    "print(\"std scipy:\", scipy.std(x, ddof=1)) #using scipy"
   ]
  },
  {
   "cell_type": "markdown",
   "metadata": {},
   "source": [
    "## Skewness"
   ]
  },
  {
   "cell_type": "code",
   "execution_count": 70,
   "metadata": {},
   "outputs": [
    {
     "name": "stdout",
     "output_type": "stream",
     "text": [
      "[8.0, 1, 2.5, 4, 28.0, 100, 100, 1000]\n",
      "2.7460927194584865\n",
      "2.746092719458487\n",
      "2.746092719458487\n"
     ]
    }
   ],
   "source": [
    "print(x)\n",
    "n = len(x)\n",
    "mean_x = sum(x) / n\n",
    "variance_x = sum((point - mean_x)**2 for point in x) / (n-1)\n",
    "std_x = variance_x**0.5\n",
    "\n",
    "skew_x = sum((item - mean_x)**3 for item in x)* n / ((n-1)* (n-2)* std_x**3) #using basic skewness\n",
    "print(skew_x)\n",
    "print(scipy.stats.skew(x, bias=False)) #using scipy\n",
    "print(series_x.skew())"
   ]
  },
  {
   "cell_type": "markdown",
   "metadata": {},
   "source": [
    "## Percentile"
   ]
  },
  {
   "cell_type": "code",
   "execution_count": 74,
   "metadata": {},
   "outputs": [
    {
     "name": "stdout",
     "output_type": "stream",
     "text": [
      "[8.0, 1, 2.5, 4, 28.0, 100, 100, 1000]\n",
      "[2.875, 18.0, 100.0]\n"
     ]
    }
   ],
   "source": [
    "print(x)\n",
    "print(statistics.quantiles(x))"
   ]
  },
  {
   "cell_type": "code",
   "execution_count": 83,
   "metadata": {},
   "outputs": [
    {
     "name": "stdout",
     "output_type": "stream",
     "text": [
      "[8.0, 1, 2.5, 4, 28.0, 100, 100, 1000]\n",
      "100.0\n",
      "18.0\n",
      "3.625\n",
      "18.0\n",
      "18.0\n"
     ]
    }
   ],
   "source": [
    "print(x)\n",
    "print(np.percentile(x, 75))\n",
    "print(np.percentile(x, 50))\n",
    "print(np.percentile(x, 25))\n",
    "print(np.quantile(x, .5))\n",
    "print(np.median(x))"
   ]
  },
  {
   "cell_type": "code",
   "execution_count": 84,
   "metadata": {},
   "outputs": [
    {
     "name": "stdout",
     "output_type": "stream",
     "text": [
      "[8.0, 1, 2.5, nan, 4, 28.0]\n",
      "8.0\n",
      "4.0\n",
      "2.5\n",
      "8.0\n",
      "nan\n"
     ]
    }
   ],
   "source": [
    "print(x_with_nan)\n",
    "print(np.nanpercentile(x_with_nan, 75))\n",
    "print(np.nanpercentile(x_with_nan, 50))\n",
    "print(np.nanpercentile(x_with_nan, 25))\n",
    "print(np.nanquantile(x_with_nan, .75))\n",
    "print(np.median(x_with_nan))"
   ]
  },
  {
   "cell_type": "code",
   "execution_count": 86,
   "metadata": {},
   "outputs": [
    {
     "name": "stdout",
     "output_type": "stream",
     "text": [
      "3.625 100.0 96.375\n"
     ]
    }
   ],
   "source": [
    "q1 = np.quantile(x, .25)\n",
    "q3 = np.quantile(x, .75)\n",
    "interquantile = q3 - q1\n",
    "print(q1, q3, interquantile)"
   ]
  },
  {
   "cell_type": "code",
   "execution_count": null,
   "metadata": {},
   "outputs": [],
   "source": []
  }
 ],
 "metadata": {
  "kernelspec": {
   "display_name": "Python 3",
   "language": "python",
   "name": "python3"
  },
  "language_info": {
   "codemirror_mode": {
    "name": "ipython",
    "version": 3
   },
   "file_extension": ".py",
   "mimetype": "text/x-python",
   "name": "python",
   "nbconvert_exporter": "python",
   "pygments_lexer": "ipython3",
   "version": "3.8.3"
  }
 },
 "nbformat": 4,
 "nbformat_minor": 4
}
