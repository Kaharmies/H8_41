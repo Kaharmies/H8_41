{
 "cells": [
  {
   "cell_type": "code",
   "execution_count": 3,
   "metadata": {},
   "outputs": [
    {
     "name": "stdout",
     "output_type": "stream",
     "text": [
      "10 is even\n",
      "9 is odd and not divisible by 3\n",
      "7 is odd and not divisible by 3\n",
      "6 is even\n",
      "4 is even\n",
      "3 is odd and not divisible by 3\n",
      "1 is odd and not divisible by 3\n"
     ]
    }
   ],
   "source": [
    "n = 10\n",
    "while n > 0:\n",
    "    if(n+1) % 3 == 0:\n",
    "        n -= 1\n",
    "        continue\n",
    "    elif n % 2 == 0:\n",
    "        print(n, \"is even\")\n",
    "    else:\n",
    "        print (n, \"is odd and not divisible by 3\")\n",
    "    n -= 1"
   ]
  },
  {
   "cell_type": "code",
   "execution_count": 4,
   "metadata": {},
   "outputs": [
    {
     "name": "stdout",
     "output_type": "stream",
     "text": [
      "Hello, Iqbal !\n",
      "Hello, Kaharmies !\n"
     ]
    }
   ],
   "source": [
    "students = ['Iqbal', 'Kaharmies']\n",
    "for student in students:\n",
    "    print (\"Hello,\",student, \"!\")"
   ]
  },
  {
   "cell_type": "code",
   "execution_count": 5,
   "metadata": {},
   "outputs": [
    {
     "name": "stdout",
     "output_type": "stream",
     "text": [
      "i:  1\n",
      "i:  4\n",
      "i:  7\n"
     ]
    }
   ],
   "source": [
    "nested_list = [\n",
    "    [1, 2, 3],\n",
    "    [4, 5, 6],\n",
    "    [7, 8, 9],\n",
    "]\n",
    "for i, j, k in nested_list:\n",
    "    print(\"i: \", i)"
   ]
  },
  {
   "cell_type": "code",
   "execution_count": 7,
   "metadata": {
    "scrolled": true
   },
   "outputs": [
    {
     "name": "stdout",
     "output_type": "stream",
     "text": [
      "[0,0]= 1\n",
      "[0,1]= 2\n",
      "[0,2]= 3\n",
      "[1,0]= 4\n",
      "[1,1]= 5\n",
      "[1,2]= 6\n",
      "[2,0]= 7\n",
      "[2,1]= 8\n",
      "[2,2]= 9\n",
      "[0,0] = 1\n",
      "[0,1] = 2\n",
      "[0,2] = 3\n",
      "[1,0] = 4\n",
      "[1,1] = 5\n",
      "[1,2] = 6\n",
      "[2,0] = 7\n",
      "[2,1] = 8\n",
      "[2,2] = 9\n"
     ]
    }
   ],
   "source": [
    "for i in range(len(nested_list)):\n",
    "    for j in range(len(nested_list[i])):\n",
    "        print(f\"[{i},{j}]= {nested_list[i][j]}\")   # f-string literal\n",
    "\n",
    "for i in range(len(nested_list)):\n",
    "    for j in range(len(nested_list[i])):\n",
    "        print(\"[{},{}] = {}\".format(\n",
    "            i, j, nested_list[i][j])\n",
    "        )"
   ]
  },
  {
   "cell_type": "code",
   "execution_count": 1,
   "metadata": {},
   "outputs": [],
   "source": [
    "import model"
   ]
  },
  {
   "cell_type": "code",
   "execution_count": 2,
   "metadata": {},
   "outputs": [
    {
     "name": "stdout",
     "output_type": "stream",
     "text": [
      "['Iqbal', 'Kaharmies', 'Hacktiv8', 'Python']\n"
     ]
    }
   ],
   "source": [
    "h8_students = model.students\n",
    "print(h8_students)"
   ]
  },
  {
   "cell_type": "code",
   "execution_count": 8,
   "metadata": {},
   "outputs": [],
   "source": [
    "import sys"
   ]
  },
  {
   "cell_type": "code",
   "execution_count": 11,
   "metadata": {},
   "outputs": [
    {
     "data": {
      "text/plain": [
       "['C:\\\\Users\\\\Iqbal\\\\Hacktiv8',\n",
       " 'C:\\\\Users\\\\Iqbal\\\\anaconda3\\\\python38.zip',\n",
       " 'C:\\\\Users\\\\Iqbal\\\\anaconda3\\\\DLLs',\n",
       " 'C:\\\\Users\\\\Iqbal\\\\anaconda3\\\\lib',\n",
       " 'C:\\\\Users\\\\Iqbal\\\\anaconda3',\n",
       " '',\n",
       " 'C:\\\\Users\\\\Iqbal\\\\anaconda3\\\\lib\\\\site-packages',\n",
       " 'C:\\\\Users\\\\Iqbal\\\\anaconda3\\\\lib\\\\site-packages\\\\win32',\n",
       " 'C:\\\\Users\\\\Iqbal\\\\anaconda3\\\\lib\\\\site-packages\\\\win32\\\\lib',\n",
       " 'C:\\\\Users\\\\Iqbal\\\\anaconda3\\\\lib\\\\site-packages\\\\Pythonwin',\n",
       " 'C:\\\\Users\\\\Iqbal\\\\anaconda3\\\\lib\\\\site-packages\\\\IPython\\\\extensions',\n",
       " 'C:\\\\Users\\\\Iqbal\\\\.ipython']"
      ]
     },
     "execution_count": 11,
     "metadata": {},
     "output_type": "execute_result"
    }
   ],
   "source": [
    "sys.path"
   ]
  },
  {
   "cell_type": "code",
   "execution_count": 3,
   "metadata": {},
   "outputs": [
    {
     "data": {
      "text/plain": [
       "['Iqbal', 'Kaharmies', 'Hacktiv8', 'Python']"
      ]
     },
     "execution_count": 3,
     "metadata": {},
     "output_type": "execute_result"
    }
   ],
   "source": [
    "from model import students as sd\n",
    "\n",
    "\n",
    "sd"
   ]
  },
  {
   "cell_type": "code",
   "execution_count": 3,
   "metadata": {},
   "outputs": [],
   "source": [
    "import numpy as np\n",
    "import pandas as pd"
   ]
  },
  {
   "cell_type": "code",
   "execution_count": null,
   "metadata": {},
   "outputs": [],
   "source": []
  }
 ],
 "metadata": {
  "kernelspec": {
   "display_name": "Python 3",
   "language": "python",
   "name": "python3"
  },
  "language_info": {
   "codemirror_mode": {
    "name": "ipython",
    "version": 3
   },
   "file_extension": ".py",
   "mimetype": "text/x-python",
   "name": "python",
   "nbconvert_exporter": "python",
   "pygments_lexer": "ipython3",
   "version": "3.8.3"
  }
 },
 "nbformat": 4,
 "nbformat_minor": 4
}
